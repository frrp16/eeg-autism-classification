{
 "cells": [
  {
   "cell_type": "code",
   "execution_count": 1,
   "metadata": {},
   "outputs": [],
   "source": [
    "# Importing necessary library\n",
    "import numpy as np\n",
    "import matplotlib.pyplot as plt\n",
    "import pywt\n",
    "import pandas as pd\n",
    "import os\n",
    "import time\n",
    "from scipy import signal\n",
    "import sys\n",
    "import warnings\n",
    "import csv\n",
    "warnings.filterwarnings('ignore')\n",
    "%matplotlib inline"
   ]
  },
  {
   "attachments": {},
   "cell_type": "markdown",
   "metadata": {},
   "source": [
    "### Melakukan dekomposisi wavelet"
   ]
  },
  {
   "cell_type": "code",
   "execution_count": 2,
   "metadata": {},
   "outputs": [],
   "source": [
    "def calcWaveletDec(data):\n",
    "    # Select wavelet and decomposition level\n",
    "    wavelet = 'db4'\n",
    "    level = 5\n",
    "    coeffs = pywt.wavedec(data, wavelet, level=level)\n",
    "    return coeffs\n"
   ]
  },
  {
   "attachments": {},
   "cell_type": "markdown",
   "metadata": {},
   "source": [
    "### Menghitung energi"
   ]
  },
  {
   "cell_type": "code",
   "execution_count": 3,
   "metadata": {},
   "outputs": [],
   "source": [
    "def calcEnergy(coeffs):\n",
    "    # Calculate relative wavelet energy\n",
    "    energies = []\n",
    "    for c in coeffs:\n",
    "        energies.append(np.sum(np.square(c)))\n",
    "\n",
    "    decomp = ['A5', 'D1', 'D2', 'D3', 'D4', 'D5']\n",
    "    energies[1:6] = energies[-1:-6:-1]\n",
    "\n",
    "    total_energy = np.sum(energies)\n",
    "    return energies"
   ]
  },
  {
   "cell_type": "code",
   "execution_count": 4,
   "metadata": {},
   "outputs": [],
   "source": [
    "# Testing "
   ]
  },
  {
   "attachments": {},
   "cell_type": "markdown",
   "metadata": {},
   "source": [
    "### Persiapan data"
   ]
  },
  {
   "cell_type": "code",
   "execution_count": 5,
   "metadata": {},
   "outputs": [],
   "source": [
    "def get_csv_EEG(filename):\n",
    "    # Load data from CSV\n",
    "    df_data = pd.read_csv(filename)\n",
    "    return df_data, df_data.columns\n"
   ]
  },
  {
   "attachments": {},
   "cell_type": "markdown",
   "metadata": {},
   "source": [
    "### Perhitungan RWB"
   ]
  },
  {
   "cell_type": "code",
   "execution_count": 6,
   "metadata": {},
   "outputs": [],
   "source": [
    "def extract_feature(directory, destination, segment_time=1):\n",
    "    fs = 256\n",
    "    t = np.arange(0, 1, 1/(fs * segment_time))\n",
    "\n",
    "    recap = pd.DataFrame(columns=['Wall Time', 'CPU Time'])\n",
    "    for foldername in os.listdir(directory):\n",
    "        folder = os.path.join(directory, foldername)\n",
    "        if os.path.isdir(folder):\n",
    "            des_dir = os.path.join(destination +\"_\" , foldername).lower()\n",
    "            files = os.listdir(folder)\n",
    "            for filename in files:\n",
    "                # print(f\"Extract feature from {filename}...\")\n",
    "                cpu_start = time.process_time()\n",
    "                wt_start = time.time()\n",
    "                # if filename in zeros_train or filename in zeros_test:\n",
    "                #     continue\n",
    "                rel_path = os.path.join(directory, foldername, filename)\n",
    "                # if 'metadata' in filename.lower():\n",
    "                #     continue\n",
    "                # trial_number = filename.split('.')[0].split('_')[1]\n",
    "                df_data, channel_name = get_csv_EEG(rel_path)\n",
    "                des_file = foldername +'_'+ filename + '_dwt' +'.npy'\n",
    "                if not os.path.exists(des_dir):\n",
    "                    os.makedirs(des_dir)\n",
    "                des_path = os.path.join(des_dir, des_file)\n",
    "                if os.path.exists(des_path):\n",
    "                    continue\n",
    "                DWT = []\n",
    "                for channel in channel_name:\n",
    "                    y = df_data[channel]; # sinyal per channel\n",
    "                    # N = len(y);\n",
    "                    # z = y - np.mean(y);\n",
    "                    # nsamp = len (y[0])\n",
    "                    energies = calcEnergy(calcWaveletDec(y))\n",
    "                    for x in energies:\n",
    "                        DWT.append(x)\n",
    "                DWT = np.array(DWT)\n",
    "                np.save(des_path, DWT)\n",
    "                wt_end = time.time()\n",
    "                cpu_end = time.process_time()\n",
    "                wall_time = wt_end - wt_start\n",
    "                cpu_time = cpu_end - cpu_start\n",
    "                recap_temp = pd.DataFrame([[wall_time, cpu_time]],columns=recap.columns)\n",
    "                recap = pd.concat([recap, recap_temp], ignore_index=True)\n",
    "                # print(f\"CPU Time: {cpu_time}, Wall Time: {wall_time}\")\n",
    "                # pd.DataFrame(DWT.T).to_csv(des_path, index=False)\n",
    "    recap_dir = os.path.join('./logs/Execution',directory.split('/')[1])\n",
    "    if not os.path.exists(recap_dir):\n",
    "        os.makedirs(recap_dir)\n",
    "    recap_path = os.path.join(recap_dir,'recap_dwt'+'.csv')\n",
    "    recap.to_csv(recap_path)\n"
   ]
  },
  {
   "attachments": {},
   "cell_type": "markdown",
   "metadata": {},
   "source": [
    "### Mengecek nilai nol pada data"
   ]
  },
  {
   "cell_type": "code",
   "execution_count": 7,
   "metadata": {},
   "outputs": [],
   "source": [
    "def check_zeros(directory):\n",
    "    contain_zero = []\n",
    "    for foldername in os.listdir(directory):\n",
    "        folder = os.path.join(directory, foldername)\n",
    "        if os.path.isdir(folder):\n",
    "            files = os.listdir(folder)\n",
    "            for filename in files:\n",
    "                rel_path = os.path.join(directory, foldername, filename)\n",
    "                # if 'metadata' in filename.lower():\n",
    "                #     continue\n",
    "                df_data, channel_name = get_csv_EEG(rel_path)\n",
    "                for channel in channel_name:\n",
    "                    if (df_data[channel]== 0).all():\n",
    "                        contain_zero.append(filename)\n",
    "                        break\n",
    "    return contain_zero"
   ]
  },
  {
   "cell_type": "code",
   "execution_count": 8,
   "metadata": {},
   "outputs": [],
   "source": [
    "# check_zeros(os.path.join(directory_segmented, \"autism\"))"
   ]
  },
  {
   "attachments": {},
   "cell_type": "markdown",
   "metadata": {},
   "source": [
    "### Testing"
   ]
  },
  {
   "cell_type": "code",
   "execution_count": 9,
   "metadata": {},
   "outputs": [],
   "source": [
    "def get_dummy(directory):\n",
    "    for foldername in os.listdir(directory):\n",
    "        folder = os.path.join(directory, foldername)\n",
    "        if os.path.isdir(folder):\n",
    "            # des_dir = os.path.join(directory.replace('CSV', 'FEATURE')+\"_\" + str(lag),foldername).lower()\n",
    "            files = os.listdir(folder)\n",
    "            for filename in files:\n",
    "                rel_path = os.path.join(directory, foldername, filename)\n",
    "                # if 'metadata' in filename.lower():\n",
    "                #     continue\n",
    "                # trial_number = filename.split('.')[0].split('_')[1]\n",
    "                print(rel_path)\n",
    "                df_data, channel_name = get_csv_EEG(rel_path)\n",
    "                RWB = []\n",
    "                return df_data[channel_name[0]]\n",
    "                # pd.DataFrame(RWB.T).to_csv(des_path, index=False)\n",
    "        \n"
   ]
  },
  {
   "cell_type": "code",
   "execution_count": 10,
   "metadata": {},
   "outputs": [
    {
     "name": "stdout",
     "output_type": "stream",
     "text": [
      "datasets/segmented_1 seconds/autism\\Bader\\segment_1.csv\n"
     ]
    }
   ],
   "source": [
    "dummy = get_dummy(\"datasets/segmented_1 seconds/autism\")"
   ]
  },
  {
   "cell_type": "code",
   "execution_count": 11,
   "metadata": {},
   "outputs": [
    {
     "name": "stdout",
     "output_type": "stream",
     "text": [
      "[2405065.999507145, 363.8390952409968, 3038.5768248945, 6126.544840829188, 8506.21105168091, 45874.49335645977]\n"
     ]
    }
   ],
   "source": [
    "coeffs = calcWaveletDec(dummy)\n",
    "\n",
    "energies= calcEnergy(coeffs=coeffs)\n",
    "print(energies)"
   ]
  },
  {
   "cell_type": "code",
   "execution_count": null,
   "metadata": {},
   "outputs": [],
   "source": []
  },
  {
   "cell_type": "code",
   "execution_count": 12,
   "metadata": {},
   "outputs": [],
   "source": [
    "# print(relative_energies)"
   ]
  },
  {
   "attachments": {},
   "cell_type": "markdown",
   "metadata": {},
   "source": [
    "### Main Program"
   ]
  },
  {
   "cell_type": "code",
   "execution_count": 13,
   "metadata": {},
   "outputs": [],
   "source": [
    "SEGMENT_TIME = 1\n",
    "\n",
    "directory_segmented = f\"datasets/segmented_{SEGMENT_TIME} seconds\"\n",
    "directory_feature = f\"datasets/features/DWT/segment_{SEGMENT_TIME} seconds\"\n",
    "directory_logs = f\"logs/Execution/segmented_{SEGMENT_TIME} seconds\""
   ]
  },
  {
   "cell_type": "code",
   "execution_count": 14,
   "metadata": {},
   "outputs": [],
   "source": [
    "# # lags = [256, 128, 64, 32, 16, 8, 4, 2]\n",
    "# lags = [128]"
   ]
  },
  {
   "cell_type": "code",
   "execution_count": 15,
   "metadata": {},
   "outputs": [],
   "source": [
    "extract_feature(os.path.join(directory_segmented, \"autism\"), os.path.join(directory_feature, \"autism\"), segment_time=SEGMENT_TIME)\n",
    "extract_feature(os.path.join(directory_segmented, \"normal\"), os.path.join(directory_feature, \"normal\"), segment_time=SEGMENT_TIME)"
   ]
  },
  {
   "cell_type": "code",
   "execution_count": 17,
   "metadata": {},
   "outputs": [
    {
     "name": "stdout",
     "output_type": "stream",
     "text": [
      "Wall Time    558.334913\n",
      "CPU Time      28.937500\n",
      "dtype: float64 \n",
      "\n"
     ]
    }
   ],
   "source": [
    "# lags = [256, 128, 64, 32, 16, 8, 4, 2]\n",
    "\n",
    "SEGMENT_TIME = 1\n",
    "\n",
    "\n",
    "df = pd.DataFrame()\n",
    "for folder in os.listdir(directory_logs):\n",
    "    temp = pd.read_csv(os.path.join(directory_logs, folder, f\"recap_dwt.csv\"))\n",
    "    df = pd.concat([df, temp])\n",
    "df = df.drop('Unnamed: 0', axis=1)   \n",
    "print(df.sum(), \"\\n\")"
   ]
  }
 ],
 "metadata": {
  "kernelspec": {
   "display_name": "skripsi",
   "language": "python",
   "name": "python3"
  },
  "language_info": {
   "codemirror_mode": {
    "name": "ipython",
    "version": 3
   },
   "file_extension": ".py",
   "mimetype": "text/x-python",
   "name": "python",
   "nbconvert_exporter": "python",
   "pygments_lexer": "ipython3",
   "version": "3.10.0"
  },
  "orig_nbformat": 4,
  "vscode": {
   "interpreter": {
    "hash": "7899ebb7610f36207965d38f68f9fcf69ead4646d08358e8b81fddd5bb8ec13e"
   }
  }
 },
 "nbformat": 4,
 "nbformat_minor": 2
}
