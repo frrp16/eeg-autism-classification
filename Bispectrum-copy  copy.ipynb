{
 "cells": [
  {
   "cell_type": "code",
   "execution_count": 1,
   "metadata": {},
   "outputs": [
    {
     "name": "stderr",
     "output_type": "stream",
     "text": [
      "c:\\Users\\farra\\anaconda3\\envs\\eeg_env\\lib\\site-packages\\stingray\\utils.py:54: UserWarning: Numba not installed. Faking it\n",
      "  warnings.warn(\"Numba not installed. Faking it\")\n"
     ]
    }
   ],
   "source": [
    "# Importing necessary library\n",
    "import numpy as np\n",
    "import matplotlib.pyplot as plt\n",
    "from matplotlib import cm\n",
    "import pywt\n",
    "import pandas as pd\n",
    "import os\n",
    "import time\n",
    "from scipy import signal\n",
    "from stingray import lightcurve\n",
    "import sys\n",
    "from stingray import Bispectrum\n",
    "import warnings\n",
    "import csv\n",
    "warnings.filterwarnings('ignore')\n",
    "%matplotlib inline"
   ]
  },
  {
   "cell_type": "code",
   "execution_count": 2,
   "metadata": {},
   "outputs": [],
   "source": [
    "# file that will be skipped because of information loss\n",
    "# zeros_test = ['co2a0000368_91.csv', 'co2c0000341_26.csv']\n",
    "# zeros_train = ['co2a0000368_0.csv', 'co2a0000368_1.csv', 'co2a0000368_2.csv', 'co2a0000368_3.csv', 'co2a0000368_4.csv', 'co2a0000368_5.csv', 'co2c0000341_27.csv']"
   ]
  },
  {
   "attachments": {},
   "cell_type": "markdown",
   "metadata": {},
   "source": [
    "### Menghitung Matriks Cumulant orde ke-3"
   ]
  },
  {
   "cell_type": "code",
   "execution_count": 3,
   "metadata": {},
   "outputs": [],
   "source": [
    "def calcCumulantOrde3(df_data, t, lag):\n",
    "    # Compute the bispectrum of the signal\n",
    "    lc = lightcurve.Lightcurve(t,df_data.T)\n",
    "    bs = Bispectrum(lc, maxlag=lag)\n",
    "\n",
    "    # Plot the bispectrum using contour plots\n",
    "    # plt.contour(bs.freq, bs.freq, bs.bispec_mag)\n",
    "    # plt.xlabel('f1')\n",
    "    # plt.ylabel('f2')\n",
    "    # plt.show()\n",
    "\n",
    "    # Plot the bispectrum using mesh plots\n",
    "    # fig = plt.figure()\n",
    "    # ax = fig.add_subplot(111, projection='3d')\n",
    "    # X, Y = np.meshgrid(bs.freq, bs.freq)\n",
    "    # ax.plot_surface(X, Y, bs.bispec_mag)\n",
    "    # ax.set_xlabel('f1')\n",
    "    # ax.set_ylabel('f2')\n",
    "    # ax.set_zlabel('Bispectrum')\n",
    "    # plt.show()\n",
    "\n",
    "    return bs.bispec_mag"
   ]
  },
  {
   "attachments": {},
   "cell_type": "markdown",
   "metadata": {},
   "source": [
    "### Creating Filter Matrix"
   ]
  },
  {
   "cell_type": "code",
   "execution_count": 4,
   "metadata": {},
   "outputs": [],
   "source": [
    "def gkernel(k=2, l=1, sig=20):\n",
    "    \"\"\"\n",
    "    Gaussian Kernel Creator via given length and sigma\n",
    "    \"\"\"\n",
    "\n",
    "    ax = np.linspace(-(l - 1) / 2., (l - 1) / 2., l)\n",
    "    bx = np.linspace(-(k - 1) / 2., (k - 1) / 2., k)\n",
    "\n",
    "    xx, yy = np.meshgrid(ax, bx)\n",
    "\n",
    "    kernel = np.exp(-0.5 * (np.square(xx) + np.square(yy)) / np.square(sig))\n",
    "\n",
    "    return kernel / np.max(kernel)"
   ]
  },
  {
   "attachments": {},
   "cell_type": "markdown",
   "metadata": {},
   "source": [
    "### Creating feature matrix"
   ]
  },
  {
   "cell_type": "code",
   "execution_count": 5,
   "metadata": {},
   "outputs": [],
   "source": [
    "def create_feature(bispectrum, pyramid, fil_size):\n",
    "    fsize = len(fil_size)\n",
    "    feature_matrix = np.zeros([fsize,fsize])\n",
    "    xtrack = 0\n",
    "    ytrack = 0\n",
    "    for xdim in range(fsize):\n",
    "        for ydim in range(fsize):\n",
    "            x,y = fil_size[xdim], fil_size[ydim]\n",
    "            # print(xtrack, ytrack)\n",
    "            \n",
    "            feature_matrix[xdim][ydim] = np.mean(bispectrum[xtrack:xtrack+x, ytrack:ytrack+y] * pyramid[xtrack:xtrack+x, ytrack:ytrack+y])\n",
    "            ytrack = ytrack+y\n",
    "        ytrack = 0\n",
    "        xtrack = xtrack+x\n",
    "    final_feature = feature_matrix[np.triu(np.ones_like(feature_matrix, dtype=bool))]\n",
    "    final_feature = final_feature[~np.isnan(final_feature)]\n",
    "\n",
    "    return final_feature\n",
    "\n",
    "    # x, y = np.meshgrid(np.arange(256), np.arange(256))\n",
    "    # z = overall\n",
    "    # z = z[:-1, :-1]\n",
    "    # z_min, z_max = -np.abs(z).max(), np.abs(z).max()\n",
    "\n",
    "    # plt.subplot()\n",
    "\n",
    "    # plt.pcolormesh(x, y, z, \n",
    "    #             cmap =cm.coolwarm, \n",
    "    #             vmin = z_min, \n",
    "    #             vmax = z_max,\n",
    "    #             edgecolors = 'face',\n",
    "    #             shading ='flat')\n",
    "\n",
    "    # plt.title('Filter')\n",
    "\n",
    "    # # set the limits of the plot\n",
    "    # # to the limits of the data\n",
    "    # plt.axis([x.min(), x.max(), y.min(), y.max()])\n",
    "\n",
    "    # plt.colorbar()\n",
    "    # plt.show()\n",
    "\n",
    "    # fig, ax = plt.subplots(subplot_kw={\"projection\": \"3d\"}, figsize=(10, 5))\n",
    "    # ax = plt.axes(projection=\"3d\")\n",
    "    # x2d, y2d = np.meshgrid(np.arange(256), np.arange(256))\n",
    "    # ax.plot_surface(x2d, y2d, overall, cmap=cm.coolwarm,\n",
    "    #                         linewidth=0, antialiased=False)\n",
    "    # ax.set_xlabel('x')\n",
    "    # ax.set_ylabel('y')\n",
    "    # ax.set_zlabel('height')\n",
    "    # plt.show()"
   ]
  },
  {
   "attachments": {},
   "cell_type": "markdown",
   "metadata": {},
   "source": [
    "### Persiapan data"
   ]
  },
  {
   "cell_type": "code",
   "execution_count": 6,
   "metadata": {},
   "outputs": [
    {
     "data": {
      "text/plain": [
       "(256,)"
      ]
     },
     "execution_count": 6,
     "metadata": {},
     "output_type": "execute_result"
    }
   ],
   "source": [
    "# Define sampling frequency\n",
    "fs = 256\n",
    "t = np.arange(0, 1, 1/(fs*1))\n",
    "t.shape"
   ]
  },
  {
   "cell_type": "code",
   "execution_count": 7,
   "metadata": {},
   "outputs": [],
   "source": [
    "def get_csv_EEG(filename):\n",
    "    # Load data from CSV\n",
    "    df_data = pd.read_csv(filename)\n",
    "    return df_data, df_data.columns\n"
   ]
  },
  {
   "attachments": {},
   "cell_type": "markdown",
   "metadata": {},
   "source": [
    "### Perhitungan Feature Bispectrum"
   ]
  },
  {
   "cell_type": "code",
   "execution_count": 8,
   "metadata": {},
   "outputs": [],
   "source": [
    "def create_pyramid(x, y):\n",
    "    pyramid = np.zeros([x,y])\n",
    "    x = pyramid.shape[0]\n",
    "    y = pyramid.shape[1]\n",
    "\n",
    "    for i in range(x // 2):\n",
    "        for j in range(i, x - i):\n",
    "            for h in range(i, y - i):\n",
    "                pyramid[j, h] = i\n",
    "    pyramid = pyramid/np.max(pyramid)\n",
    "    return pyramid"
   ]
  },
  {
   "cell_type": "code",
   "execution_count": 9,
   "metadata": {},
   "outputs": [],
   "source": [
    "def extract_feature(directory, lag, destination, filter_dim = 5, segment_time=1):\n",
    "    fs = 256\n",
    "    t = np.arange(0, 1, 1/(fs * segment_time))\n",
    "\n",
    "    bis_dim = lag\n",
    "    big_fil_size = bis_dim //2\n",
    "    sigma = bis_dim//8\n",
    "    if sigma == 0:\n",
    "        sigma = 1\n",
    "    fil_size = [big_fil_size // (2 ** i) for i in range(filter_dim)]\n",
    "    \n",
    "    if sum(fil_size) != bis_dim:\n",
    "            fil_size = [value for value in fil_size if value != 0]\n",
    "            if len(fil_size) == 1:\n",
    "                fil_size.append(fil_size[0])\n",
    "    \n",
    "    fil_size[-1] = fil_size[-2] \n",
    "    pyramid = np.zeros([bis_dim,bis_dim])\n",
    "    xtrack, ytrack = 0,0\n",
    "    # print(fil_size)\n",
    "    for xdim in range(len(fil_size)):\n",
    "        for ydim in range(len(fil_size)):\n",
    "            x,y = fil_size[xdim], fil_size[ydim]\n",
    "            pyramid[xtrack:xtrack+x, ytrack:ytrack+y] = create_pyramid(x, y)\n",
    "            ytrack = ytrack+y\n",
    "        ytrack = 0\n",
    "        xtrack = xtrack+x\n",
    "    recap = pd.DataFrame(columns=['Wall Time', 'CPU Time'])\n",
    "    for foldername in os.listdir(directory):\n",
    "        folder = os.path.join(directory, foldername)\n",
    "        if os.path.isdir(folder):\n",
    "            des_dir = os.path.join(destination +\"_\" + str(lag), foldername).lower()\n",
    "            files = os.listdir(folder)\n",
    "            for filename in files:\n",
    "                cpu_start = time.process_time()\n",
    "                wt_start = time.time()\n",
    "                # if filename in zeros_train or filename in zeros_test:\n",
    "                #     continue\n",
    "                rel_path = os.path.join(directory, foldername, filename)\n",
    "                # if 'metadata' in filename.lower():\n",
    "                #     continue\n",
    "                # trial_number = filename.split('.')[0].split('_')[1]\n",
    "                des_file = foldername+'_'+ filename + '_bispectrum' +'.npy'\n",
    "                if not os.path.exists(des_dir):\n",
    "                    os.makedirs(des_dir)\n",
    "                des_path = os.path.join(des_dir, des_file)\n",
    "                if os.path.exists(des_path):\n",
    "                    continue\n",
    "                df_data, channel_name = get_csv_EEG(rel_path)\n",
    "                bispectrum = []\n",
    "                for channel in channel_name:\n",
    "                    magnitude = calcCumulantOrde3(df_data[channel], t, lag)\n",
    "                    magnitude = magnitude[:256, :256]\n",
    "                    feature = create_feature(magnitude,pyramid,fil_size)\n",
    "                    bispectrum.append(feature)\n",
    "                bispectrum = np.array(bispectrum)\n",
    "                bispectrum = bispectrum.flatten()\n",
    "                np.save(des_path, bispectrum)\n",
    "                wt_end = time.time()\n",
    "                cpu_end = time.process_time()\n",
    "                wall_time = wt_end - wt_start\n",
    "                cpu_time = cpu_end - cpu_start\n",
    "                recap_temp = pd.DataFrame([[wall_time, cpu_time]],columns=recap.columns)\n",
    "                recap = pd.concat([recap, recap_temp], ignore_index=True)\n",
    "                # pd.DataFrame(RWB.T).to_csv(des_path, index=False)\n",
    "    recap_dir = os.path.join('./logs/Execution',directory.split('/')[1])\n",
    "    if not os.path.exists(recap_dir):\n",
    "        os.makedirs(recap_dir)\n",
    "    recap_path = os.path.join(recap_dir,'recap_bispectrum_pyramid'+str(lag)+'.csv')\n",
    "    recap.to_csv(recap_path)    \n"
   ]
  },
  {
   "attachments": {},
   "cell_type": "markdown",
   "metadata": {},
   "source": [
    "### Test"
   ]
  },
  {
   "cell_type": "code",
   "execution_count": 10,
   "metadata": {},
   "outputs": [],
   "source": [
    "def extract_test(filename, lag, pyramid, fil_size):\n",
    "    \n",
    "    # if filename in zeros_train or filename in zeros_test:\n",
    "    #     pass\n",
    "    # if 'metadata' in filename.lower():\n",
    "    #     pass\n",
    "    \n",
    "    df_data, channel_name = get_csv_EEG(filename)\n",
    "    bispectrum = []\n",
    "    for channel in channel_name:\n",
    "        magnitude = calcCumulantOrde3(df_data[channel], t, lag)\n",
    "        feature = create_feature(magnitude,pyramid,fil_size)\n",
    "        bispectrum.append(feature)\n",
    "    bispectrum = np.array(bispectrum)\n",
    "    bispectrum = bispectrum.flatten()\n",
    "    return bispectrum\n",
    "                \n"
   ]
  },
  {
   "cell_type": "code",
   "execution_count": 11,
   "metadata": {},
   "outputs": [
    {
     "name": "stdout",
     "output_type": "stream",
     "text": [
      "(240,)\n",
      "[5.94530780e+01 1.23083328e+02 3.20557708e+02 5.70623851e+02\n",
      " 2.59943915e+03 2.86502477e+02 1.08109355e+03 2.45312488e+03\n",
      " 1.36297327e+04 3.61290784e+03 9.65879821e+03 6.31180111e+04\n",
      " 2.26235373e+04 1.33352870e+05 1.95587931e+06 1.74408434e+02\n",
      " 2.49136782e+02 5.66659851e+02 8.77506391e+02 4.01519672e+03\n",
      " 4.47685640e+02 1.40123001e+03 3.07072976e+03 1.83399514e+04\n",
      " 4.90418013e+03 1.51129505e+04 8.77392161e+04 1.96558227e+04\n",
      " 1.35885380e+05 1.63664402e+06 2.60336484e+02 2.70820731e+02\n",
      " 4.58087968e+02 5.84523140e+02 4.44299260e+03 4.02709419e+02\n",
      " 1.12948384e+03 1.78909605e+03 1.88091131e+04 2.46272345e+03\n",
      " 6.15599609e+03 4.98042902e+04 5.24928817e+03 6.95046189e+04\n",
      " 1.67991630e+06 5.83837170e+01 1.19743074e+02 2.13820464e+02\n",
      " 3.22324431e+02 1.30720556e+03 4.73174869e+02 1.87562256e+03\n",
      " 4.64337219e+03 2.24548571e+04 7.44518177e+03 9.71292961e+03\n",
      " 5.00578604e+04 1.59996300e+04 6.77619982e+04 6.24976602e+05\n",
      " 6.28467731e+00 2.83175710e+01 6.82361676e+01 9.08976280e+01\n",
      " 5.89702742e+02 1.70793776e+02 8.89489426e+02 1.82240861e+03\n",
      " 1.21892869e+04 3.87934761e+03 6.46256695e+03 4.16387689e+04\n",
      " 1.05265661e+04 5.05021146e+04 9.05331394e+05 5.69820689e+01\n",
      " 5.78461477e+01 1.31559794e+02 1.67366590e+02 1.14050093e+03\n",
      " 1.31615132e+02 5.47836490e+02 1.22031175e+03 1.21544390e+04\n",
      " 2.47219759e+03 5.74862777e+03 4.10701705e+04 7.37216680e+03\n",
      " 5.68845250e+04 9.59246211e+05 7.41461521e+00 2.22789481e+01\n",
      " 5.92647505e+01 8.08393686e+01 4.85012312e+02 1.09299963e+02\n",
      " 5.64463827e+02 1.21499124e+03 8.96016510e+03 2.71165184e+03\n",
      " 5.88357329e+03 4.11881178e+04 8.39231755e+03 6.35421009e+04\n",
      " 9.83929208e+05 2.04732601e+01 5.61833735e+01 1.83398825e+02\n",
      " 3.08196692e+02 1.33395759e+03 1.98420825e+02 1.01953538e+03\n",
      " 2.32174007e+03 1.36707674e+04 4.91989632e+03 1.40456654e+04\n",
      " 8.59043099e+04 3.02130657e+04 1.66188450e+05 2.44439982e+06\n",
      " 1.89512963e+01 4.89905133e+01 1.58436253e+02 2.56618340e+02\n",
      " 1.02941970e+03 1.65279312e+02 8.71981763e+02 1.68520836e+03\n",
      " 9.54568043e+03 4.13259786e+03 9.85272476e+03 6.01967541e+04\n",
      " 2.04083877e+04 1.40138820e+05 1.06332759e+06 4.08088434e+00\n",
      " 1.46365341e+01 5.15001982e+01 9.11391494e+01 4.76152840e+02\n",
      " 1.04553751e+02 1.05913988e+03 2.78125842e+03 1.18270710e+04\n",
      " 6.29338825e+03 1.67302977e+04 8.12581759e+04 3.04020728e+04\n",
      " 1.65095723e+05 1.27455670e+06 1.10490841e+01 3.10650152e+01\n",
      " 7.76878097e+01 2.56504677e+02 1.46462579e+03 1.77077375e+02\n",
      " 2.09415400e+03 7.01784110e+03 2.03996189e+04 5.44456483e+03\n",
      " 1.86208225e+04 7.28448943e+04 3.99327311e+04 1.91263035e+05\n",
      " 1.47485703e+06 1.29037916e+01 3.82589560e+01 1.21051837e+02\n",
      " 1.97046563e+02 6.96636554e+02 1.41083844e+02 6.96344338e+02\n",
      " 1.49650187e+03 6.60437921e+03 3.08818641e+03 9.18951366e+03\n",
      " 4.50194745e+04 1.81061102e+04 8.87521439e+04 7.66645816e+05\n",
      " 1.55371669e+01 4.99987794e+01 1.36544268e+02 2.63051360e+02\n",
      " 1.16345992e+03 2.12972512e+02 1.53506669e+03 4.15197096e+03\n",
      " 1.08308216e+04 3.70378856e+03 1.08941451e+04 4.12908826e+04\n",
      " 1.87193008e+04 8.93211450e+04 5.86951234e+05 1.27270561e+01\n",
      " 1.91304618e+01 5.30604346e+01 8.91295039e+01 4.33218077e+02\n",
      " 6.75692190e+01 4.35666649e+02 1.08695654e+03 6.18195051e+03\n",
      " 1.88712439e+03 5.40246171e+03 2.95594584e+04 1.19701312e+04\n",
      " 6.62178294e+04 5.77359597e+05 2.60638437e+01 4.21658085e+01\n",
      " 9.16206573e+01 1.34920381e+02 1.06682175e+03 1.62693285e+02\n",
      " 1.04325170e+03 1.76434176e+03 1.40302419e+04 2.75126937e+03\n",
      " 6.18910398e+03 3.75649817e+04 7.38173353e+03 5.47406499e+04\n",
      " 6.85342103e+05 8.16219049e+01 8.87230626e+01 1.67360479e+02\n",
      " 2.34715090e+02 1.28607583e+03 2.28262173e+02 1.01086987e+03\n",
      " 2.53034984e+03 1.61654230e+04 3.57976262e+03 7.54157380e+03\n",
      " 4.37085370e+04 9.82024393e+03 6.08825048e+04 8.28492379e+05]\n"
     ]
    }
   ],
   "source": [
    "bis_dim = 256\n",
    "filter_dim = 5\n",
    "big_fil_size = bis_dim //2\n",
    "fil_size = [big_fil_size // (2 ** i) for i in range(filter_dim)]\n",
    "fil_size[-1] = fil_size[-2] \n",
    "pyramid = np.zeros([bis_dim,bis_dim])\n",
    "xtrack, ytrack = 0,0\n",
    "for xdim in range(filter_dim):\n",
    "    for ydim in range(filter_dim):\n",
    "        x,y = fil_size[xdim], fil_size[ydim]\n",
    "        pyramid[xtrack:xtrack+x, ytrack:ytrack+y] = create_pyramid(x,y)\n",
    "        ytrack = ytrack+y\n",
    "    ytrack = 0\n",
    "    xtrack = xtrack+x\n",
    "bs = extract_test('datasets/segmented_1 seconds/autism/Bader/segment_1001.csv', 256, pyramid, fil_size)\n",
    "print(bs.shape)\n",
    "print(bs)"
   ]
  },
  {
   "cell_type": "code",
   "execution_count": 12,
   "metadata": {},
   "outputs": [
    {
     "name": "stdout",
     "output_type": "stream",
     "text": [
      "(240,)\n",
      "[6.38710041e+01 1.44136680e+02 4.01984283e+02 7.13410429e+02\n",
      " 3.98650014e+03 5.95143717e+02 2.21081983e+03 4.92285206e+03\n",
      " 3.32034370e+04 1.07812018e+04 2.58067154e+04 2.00754300e+05\n",
      " 8.06595544e+04 6.07185909e+05 1.34583070e+07 1.88463157e+02\n",
      " 2.91903695e+02 7.82031175e+02 1.09885873e+03 5.59342877e+03\n",
      " 9.53668490e+02 3.22618684e+03 6.14905029e+03 4.12277116e+04\n",
      " 1.75199800e+04 4.10619805e+04 2.48815435e+05 7.11887112e+04\n",
      " 4.95139970e+05 8.27989994e+06 2.81364237e+02 3.25951615e+02\n",
      " 6.90789341e+02 9.26830357e+02 6.45976477e+03 8.64419168e+02\n",
      " 2.59760731e+03 4.35465997e+03 4.11110904e+04 1.02225643e+04\n",
      " 2.13708930e+04 1.54788723e+05 2.99768064e+04 3.02667566e+05\n",
      " 8.30012743e+06 6.31474336e+01 1.31135049e+02 2.56928905e+02\n",
      " 3.30633221e+02 1.83187774e+03 8.96591138e+02 3.79812675e+03\n",
      " 8.03126041e+03 5.45298137e+04 1.93836769e+04 2.23464419e+04\n",
      " 1.57586521e+05 4.54446948e+04 2.65342485e+05 3.97650111e+06\n",
      " 6.63482948e+00 3.08291214e+01 7.60339054e+01 1.03993357e+02\n",
      " 6.40003322e+02 3.58313884e+02 1.86007365e+03 4.01732392e+03\n",
      " 2.66660039e+04 1.07998561e+04 1.76905628e+04 1.24030247e+05\n",
      " 4.32402008e+04 2.16707709e+05 3.73623318e+06 6.19150016e+01\n",
      " 7.18996112e+01 1.64874030e+02 2.45531990e+02 1.24871740e+03\n",
      " 3.00988343e+02 1.13425980e+03 2.77031267e+03 2.06219211e+04\n",
      " 7.22361989e+03 1.61071108e+04 9.19481007e+04 3.21235862e+04\n",
      " 1.88179086e+05 2.98833730e+06 7.92411049e+00 2.60537004e+01\n",
      " 7.28111233e+01 1.15700948e+02 5.90059466e+02 2.40656680e+02\n",
      " 1.22256362e+03 2.97275367e+03 1.92968739e+04 8.30950502e+03\n",
      " 1.76480431e+04 1.14773375e+05 4.62269485e+04 2.70332887e+05\n",
      " 4.29338900e+06 2.19222729e+01 6.81441354e+01 2.20661438e+02\n",
      " 4.04763387e+02 2.10327137e+03 4.43803886e+02 2.04682599e+03\n",
      " 4.99832326e+03 3.45830686e+04 1.32064920e+04 3.54766748e+04\n",
      " 2.81689554e+05 1.15557125e+05 7.89692186e+05 1.58930776e+07\n",
      " 2.02334234e+01 5.70392148e+01 2.04902203e+02 3.22954071e+02\n",
      " 1.37063295e+03 3.38714798e+02 1.81209799e+03 3.42806604e+03\n",
      " 2.03361806e+04 1.31435725e+04 2.62324592e+04 1.91664624e+05\n",
      " 7.64428346e+04 5.02887395e+05 5.47618528e+06 4.26002518e+00\n",
      " 1.65156784e+01 5.59682765e+01 9.49307951e+01 5.12183985e+02\n",
      " 2.63109528e+02 2.45765998e+03 6.06369390e+03 3.02170037e+04\n",
      " 1.86963741e+04 4.23741685e+04 2.64900520e+05 1.25733120e+05\n",
      " 6.60872402e+05 6.53910943e+06 1.06832404e+01 3.42373695e+01\n",
      " 7.99744916e+01 2.36775882e+02 1.49807218e+03 4.63976843e+02\n",
      " 4.58367926e+03 1.42092337e+04 4.99650892e+04 1.69731651e+04\n",
      " 4.91040564e+04 2.24161584e+05 1.70703914e+05 8.74748112e+05\n",
      " 8.27057665e+06 1.37040204e+01 4.37532485e+01 1.49924557e+02\n",
      " 2.55963650e+02 1.02740183e+03 2.96828751e+02 1.48635071e+03\n",
      " 3.36386091e+03 1.65394453e+04 9.43897732e+03 2.69592775e+04\n",
      " 1.51506571e+05 7.80277620e+04 4.08798863e+05 4.54866029e+06\n",
      " 1.58672801e+01 5.70871118e+01 1.48872547e+02 2.68159945e+02\n",
      " 1.36524983e+03 4.94936314e+02 3.33213032e+03 8.33792035e+03\n",
      " 2.83942457e+04 1.21105562e+04 3.07858283e+04 1.40706242e+05\n",
      " 8.31629174e+04 4.09713882e+05 3.74171721e+06 1.35495981e+01\n",
      " 2.23838109e+01 6.36878393e+01 1.24922018e+02 4.30648552e+02\n",
      " 1.52391679e+02 9.03088416e+02 2.58570335e+03 1.09863780e+04\n",
      " 6.12778510e+03 1.73012404e+04 6.81401153e+04 5.17772295e+04\n",
      " 2.28627371e+05 1.66458231e+06 2.76059795e+01 4.80157076e+01\n",
      " 1.03572070e+02 1.66962912e+02 9.03149234e+02 3.69384569e+02\n",
      " 2.01818958e+03 4.06776715e+03 2.36412573e+04 8.40627692e+03\n",
      " 1.85366087e+04 8.29248653e+04 3.38536710e+04 1.79528375e+05\n",
      " 2.09425759e+06 8.84716784e+01 1.07176834e+02 2.14101363e+02\n",
      " 3.27227114e+02 1.50662634e+03 5.19910001e+02 2.13687973e+03\n",
      " 5.56311644e+03 3.10168307e+04 1.10634200e+04 2.18378814e+04\n",
      " 1.06354322e+05 4.27169036e+04 2.17448362e+05 2.94215283e+06]\n"
     ]
    }
   ],
   "source": [
    "bis_dim = 256 #lag\n",
    "filter_dim = 5\n",
    "\n",
    "big_fil_size = bis_dim //2\n",
    "sigma = bis_dim//8\n",
    "if sigma == 0:\n",
    "    sigma = 1\n",
    "fil_size = [big_fil_size // (2 ** i) for i in range(filter_dim)]\n",
    "\n",
    "if sum(fil_size) != bis_dim:\n",
    "        fil_size = [value for value in fil_size if value != 0]\n",
    "        if len(fil_size) == 1:\n",
    "            fil_size.append(fil_size[0])\n",
    "\n",
    "fil_size[-1] = fil_size[-2] \n",
    "pyramid = np.zeros([bis_dim,bis_dim])\n",
    "xtrack, ytrack = 0,0\n",
    "# print(fil_size)\n",
    "for xdim in range(len(fil_size)):\n",
    "    for ydim in range(len(fil_size)):\n",
    "        x,y = fil_size[xdim], fil_size[ydim]\n",
    "        pyramid[xtrack:xtrack+x, ytrack:ytrack+y] = gkernel(x, y, sigma)\n",
    "        ytrack = ytrack+y\n",
    "    ytrack = 0\n",
    "    xtrack = xtrack+x\n",
    "\n",
    "bs = extract_test('datasets/segmented_1 seconds/autism/Bader/segment_1001.csv', 256, pyramid, fil_size)\n",
    "print(bs.shape)\n",
    "print(bs)"
   ]
  },
  {
   "attachments": {},
   "cell_type": "markdown",
   "metadata": {},
   "source": [
    "### Main Program"
   ]
  },
  {
   "cell_type": "code",
   "execution_count": 13,
   "metadata": {},
   "outputs": [],
   "source": [
    "SEGMENT_TIME = 1\n",
    "\n",
    "directory_segmented = f\"datasets/segmented_{SEGMENT_TIME} seconds\"\n",
    "directory_feature = f\"datasets/features/bispectrum_pyramid/segment_{SEGMENT_TIME} seconds\"\n",
    "directory_logs = f\"logs/Execution/bispectrum_pyramid/segmented_{SEGMENT_TIME} seconds\""
   ]
  },
  {
   "cell_type": "code",
   "execution_count": 14,
   "metadata": {},
   "outputs": [],
   "source": [
    "lags = [256]\n",
    "for lag in lags:\n",
    "    # extract_feature(os.path.join(directory_segmented, \"autism\"), lag, os.path.join(directory_feature, \"autism\"), segment_time=SEGMENT_TIME)\n",
    "    extract_feature(os.path.join(directory_segmented, \"normal\"), lag, os.path.join(directory_feature, \"normal\"), segment_time=SEGMENT_TIME)"
   ]
  },
  {
   "cell_type": "code",
   "execution_count": null,
   "metadata": {},
   "outputs": [],
   "source": [
    "# data = np.loadtxt('../out.csv', delimiter=\",\", skiprows=1, usecols=range(3,259))\n",
    "# channel_name = np.loadtxt('../out.csv', delimiter=\",\", skiprows=1, usecols=1, dtype='str', encoding='utf-8')\n",
    "\n",
    "# df_data = pd.DataFrame(data.T, columns=channel_name)\n",
    "# df_data = df_data.drop(columns=['X', 'Y', 'nd'])\n",
    "# bispectrum = []\n",
    "# for channel in df_data.columns:\n",
    "#     magnitude = calcCumulantOrde3(df_data[channel], t, 256)\n",
    "#     bispectrum.append(magnitude)\n",
    "# bispectrum = np.array(bispectrum)\n",
    "# np.save('../bispectrum.npy', bispectrum)\n",
    "# x = np.load('../bispectrum.npy')\n",
    "\n",
    "# (bispectrum == x).all()"
   ]
  }
 ],
 "metadata": {
  "kernelspec": {
   "display_name": "skripsi",
   "language": "python",
   "name": "python3"
  },
  "language_info": {
   "codemirror_mode": {
    "name": "ipython",
    "version": 3
   },
   "file_extension": ".py",
   "mimetype": "text/x-python",
   "name": "python",
   "nbconvert_exporter": "python",
   "pygments_lexer": "ipython3",
   "version": "3.10.0"
  },
  "orig_nbformat": 4,
  "vscode": {
   "interpreter": {
    "hash": "7899ebb7610f36207965d38f68f9fcf69ead4646d08358e8b81fddd5bb8ec13e"
   }
  }
 },
 "nbformat": 4,
 "nbformat_minor": 2
}
