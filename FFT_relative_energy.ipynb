{
 "cells": [
  {
   "cell_type": "code",
   "execution_count": 1,
   "metadata": {},
   "outputs": [
    {
     "name": "stderr",
     "output_type": "stream",
     "text": [
      "/home/farras/miniconda3/envs/eeg_env/lib/python3.10/site-packages/stingray/utils.py:54: UserWarning: Numba not installed. Faking it\n",
      "  warnings.warn(\"Numba not installed. Faking it\")\n"
     ]
    }
   ],
   "source": [
    "import numpy as np\n",
    "import matplotlib.pyplot as plt\n",
    "import pandas as pd\n",
    "import os\n",
    "import time\n",
    "from scipy import signal\n",
    "from stingray import lightcurve\n",
    "import sys\n",
    "from stingray import Bispectrum\n",
    "import warnings\n",
    "import csv\n",
    "import random\n",
    "warnings.filterwarnings('ignore')\n",
    "%matplotlib inline"
   ]
  },
  {
   "cell_type": "markdown",
   "metadata": {},
   "source": [
    "## FFT Function Definition"
   ]
  },
  {
   "cell_type": "code",
   "execution_count": 2,
   "metadata": {},
   "outputs": [],
   "source": [
    "def calculateFft(data, sample_rate):\n",
    "    fft = np.fft.fft(data, axis=0)\n",
    "    fft_freq = np.fft.fftfreq(len(data), d=1.0/sample_rate)\n",
    "    return np.abs(fft), np.abs(fft_freq)\n"
   ]
  },
  {
   "cell_type": "code",
   "execution_count": 3,
   "metadata": {},
   "outputs": [],
   "source": [
    "# def bandpass_filter(data, lowcut, highcut, fs, order=2):\n",
    "#     nyquist = 0.5 * fs\n",
    "#     low = lowcut / nyquist\n",
    "#     high = highcut / nyquist\n",
    "#     b, a = scipy.signal.butter(order, [low, high], btype='band')\n",
    "#     y = scipy.signal.filtfilt(b, a, data, axis=0)\n",
    "#     return y"
   ]
  },
  {
   "cell_type": "code",
   "execution_count": 4,
   "metadata": {},
   "outputs": [],
   "source": [
    "def extract_band_power(fft_values, freq, band):\n",
    "    band_freq_indices = np.where((freq >= band[0]) & (freq <= band[1]))[0]\n",
    "    band_power = np.mean(np.abs(fft_values[band_freq_indices, :]) ** 2, axis=0)\n",
    "    return band_power"
   ]
  },
  {
   "cell_type": "code",
   "execution_count": 5,
   "metadata": {},
   "outputs": [],
   "source": [
    "def calculateBandPower(fft_result, fft_freq, bands, channel_name):\n",
    "    band_powers = {}\n",
    "    for band_name, band_range in bands.items():\n",
    "        band_powers[band_name] = extract_band_power(fft_result, fft_freq, band_range)\n",
    "\n",
    "    band_powers_df = pd.DataFrame(band_powers, index=channel_name)\n",
    "    band_powers_np = band_powers_df.values\n",
    "    return band_powers_np"
   ]
  },
  {
   "cell_type": "code",
   "execution_count": 6,
   "metadata": {},
   "outputs": [],
   "source": [
    "def calcRelativeEnergy(band_powers):\n",
    "    # Calculate relative energy\n",
    "    total_energy = np.sum(band_powers)\n",
    "    relative_energies = [(e / total_energy) * 100 for e in band_powers]\n",
    "\n",
    "    return relative_energies"
   ]
  },
  {
   "cell_type": "code",
   "execution_count": 7,
   "metadata": {},
   "outputs": [],
   "source": [
    "def get_csv_EEG(filename):\n",
    "    # Load data from CSV\n",
    "    df_data = pd.read_csv(filename)\n",
    "    return df_data, df_data.columns\n",
    "\n",
    "def get_dummy(directory):\n",
    "    names = random.choice(os.listdir(directory))\n",
    "    files = os.listdir(os.path.join(directory, names))\n",
    "    # Take random sample file in the folder\n",
    "    rel_path = os.path.join(directory, names, random.choice(files))\n",
    "    print(rel_path)\n",
    "    df_data = pd.read_csv(rel_path)\n",
    "    return df_data"
   ]
  },
  {
   "cell_type": "code",
   "execution_count": 8,
   "metadata": {},
   "outputs": [
    {
     "name": "stdout",
     "output_type": "stream",
     "text": [
      "datasets/segmented_1 seconds/autism/Shahad/segment_677.csv\n"
     ]
    }
   ],
   "source": [
    "# Test FFT \n",
    "SAMPLING_RATE = 256\n",
    "df = get_dummy(\"datasets/segmented_1 seconds/autism\")\n",
    "data = df.values\n",
    "\n",
    "fft_result, fft_freq = calculateFft(data, SAMPLING_RATE)"
   ]
  },
  {
   "cell_type": "code",
   "execution_count": 9,
   "metadata": {},
   "outputs": [],
   "source": [
    "bands = {'Delta': (0.5, 4), 'Theta': (4, 8), 'Alpha': (8, 12), 'Beta': (12, 30), 'Gamma': (30, 60)}"
   ]
  },
  {
   "cell_type": "code",
   "execution_count": 10,
   "metadata": {},
   "outputs": [],
   "source": [
    "band_powers_np = calculateBandPower(fft_result, fft_freq, bands, df.columns)"
   ]
  },
  {
   "cell_type": "code",
   "execution_count": 11,
   "metadata": {},
   "outputs": [],
   "source": [
    "fff = calcRelativeEnergy(band_powers_np.flatten())"
   ]
  },
  {
   "cell_type": "code",
   "execution_count": 12,
   "metadata": {},
   "outputs": [
    {
     "data": {
      "image/png": "[encoded data removed]",
      "text/plain": [
       "<Figure size 640x480 with 1 Axes>"
      ]
     },
     "metadata": {},
     "output_type": "display_data"
    }
   ],
   "source": [
    "plt.figure()\n",
    "plt.plot(range(len(fff)), fff)\n",
    "plt.show()"
   ]
  },
  {
   "cell_type": "markdown",
   "metadata": {},
   "source": [
    "## FFT Feature Extraction"
   ]
  },
  {
   "cell_type": "code",
   "execution_count": 13,
   "metadata": {},
   "outputs": [],
   "source": [
    "def extract_feature(directory, destination, segment_time=1):\n",
    "    bands = {'Delta': (0.5, 4), 'Theta': (4, 8), 'Alpha': (8, 12), 'Beta': (12, 30), 'Gamma': (30, 60)}\n",
    "\n",
    "    recap = pd.DataFrame(columns=['Wall Time', 'CPU Time'])\n",
    "    for foldername in os.listdir(directory):\n",
    "        folder = os.path.join(directory, foldername)\n",
    "        if os.path.isdir(folder):\n",
    "            des_dir = os.path.join(destination +\"_\" , foldername).lower()\n",
    "            files = os.listdir(folder)\n",
    "            for filename in files:\n",
    "                # print(f\"Extract feature from {filename}...\")\n",
    "                cpu_start = time.process_time()\n",
    "                wt_start = time.time()\n",
    "                # if filename in zeros_train or filename in zeros_test:\n",
    "                #     continue\n",
    "                rel_path = os.path.join(directory, foldername, filename)\n",
    "                # if 'metadata' in filename.lower():\n",
    "                #     continue\n",
    "                # trial_number = filename.split('.')[0].split('_')[1]\n",
    "                df_data, channel_name = get_csv_EEG(rel_path)\n",
    "                des_file = foldername +'_'+ filename + '_fft_rel' +'.npy'\n",
    "                if not os.path.exists(des_dir):\n",
    "                    os.makedirs(des_dir)\n",
    "                des_path = os.path.join(des_dir, des_file)\n",
    "                if os.path.exists(des_path):\n",
    "                    continue\n",
    "                \n",
    "\n",
    "                fft_result, fft_freq = calculateFft(df_data.values, SAMPLING_RATE)\n",
    "\n",
    "                band_powers = {}\n",
    "                for band_name, band_range in bands.items():\n",
    "                    band_powers[band_name] = extract_band_power(fft_result, fft_freq, band_range)\n",
    "\n",
    "                band_powers_df = pd.DataFrame(band_powers, index=channel_name)\n",
    "            \n",
    "                FFT = calcRelativeEnergy(band_powers_df.values.flatten())\n",
    "                np.save(des_path, FFT)\n",
    "                wt_end = time.time()\n",
    "                cpu_end = time.process_time()\n",
    "                wall_time = wt_end - wt_start\n",
    "                cpu_time = cpu_end - cpu_start\n",
    "                recap_temp = pd.DataFrame([[wall_time, cpu_time]],columns=recap.columns)\n",
    "                recap = pd.concat([recap, recap_temp], ignore_index=True)\n",
    "                # print(f\"CPU Time: {cpu_time}, Wall Time: {wall_time}\")\n",
    "                # pd.DataFrame(FFT.T).to_csv(des_path, index=False)\n",
    "    recap_dir = os.path.join('./logs/Execution',directory.split('/')[1])\n",
    "    if not os.path.exists(recap_dir):\n",
    "        os.makedirs(recap_dir)\n",
    "    recap_path = os.path.join(recap_dir,'recap_fft_rel'+'.csv')\n",
    "    recap.to_csv(recap_path)\n"
   ]
  },
  {
   "cell_type": "markdown",
   "metadata": {},
   "source": [
    "## Main Program"
   ]
  },
  {
   "cell_type": "code",
   "execution_count": 14,
   "metadata": {},
   "outputs": [],
   "source": [
    "SEGMENT_TIME = 1\n",
    "\n",
    "directory_segmented = f\"datasets/segmented_{SEGMENT_TIME} seconds\"\n",
    "directory_feature = f\"datasets/features/FFT_relative/segment_{SEGMENT_TIME} seconds\"\n",
    "directory_logs = f\"logs/Execution/segmented_{SEGMENT_TIME} seconds\""
   ]
  },
  {
   "cell_type": "code",
   "execution_count": 15,
   "metadata": {},
   "outputs": [],
   "source": [
    "extract_feature(os.path.join(directory_segmented, \"autism\"), os.path.join(directory_feature, \"autism\"), segment_time=SEGMENT_TIME)\n",
    "extract_feature(os.path.join(directory_segmented, \"normal\"), os.path.join(directory_feature, \"normal\"), segment_time=SEGMENT_TIME)"
   ]
  }
 ],
 "metadata": {
  "kernelspec": {
   "display_name": "eeg_env",
   "language": "python",
   "name": "python3"
  },
  "language_info": {
   "codemirror_mode": {
    "name": "ipython",
    "version": 3
   },
   "file_extension": ".py",
   "mimetype": "text/x-python",
   "name": "python",
   "nbconvert_exporter": "python",
   "pygments_lexer": "ipython3",
   "version": "3.10.0"
  }
 },
 "nbformat": 4,
 "nbformat_minor": 2
}
